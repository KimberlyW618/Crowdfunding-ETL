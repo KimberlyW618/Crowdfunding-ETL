{
 "cells": [
  {
   "cell_type": "code",
   "execution_count": 1,
   "id": "e13c1b2b",
   "metadata": {},
   "outputs": [],
   "source": [
    "# Import the json module.\n",
    "import json"
   ]
  },
  {
   "cell_type": "code",
   "execution_count": null,
   "id": "e5a2d052",
   "metadata": {},
   "outputs": [],
   "source": [
    "## Assign the string data to a variable.  \n",
    "#data = \"{'contact_id': 4661, 'name': 'Cecilia Velasco', 'email': 'cecilia.velasco@rodrigues.fr'}\"\n",
    "\n",
    "## This is not good, needs doubble qoutes, \n",
    "#### will get an error when trying to run the json load with this  #### \n",
    "####### Convert the string data to a dictionary. \n",
    "#converted_data = json.loads(data)"
   ]
  },
  {
   "cell_type": "code",
   "execution_count": null,
   "id": "17756716",
   "metadata": {
    "scrolled": true
   },
   "outputs": [],
   "source": [
    "## can use this to generate the new line \n",
    "#data = data.replace(\"'\", '\"')\n",
    "#print(data)\n",
    "## provieds this #### {\"contact_id\": 4661, \"name\": \"Cecilia Velasco\", \"email\": \"cecilia.velasco@rodrigues.fr\"} "
   ]
  },
  {
   "cell_type": "code",
   "execution_count": 9,
   "id": "11838e9b",
   "metadata": {},
   "outputs": [
    {
     "name": "stdout",
     "output_type": "stream",
     "text": [
      "The original string : {\"contact_id\": 4661, \"name\": \"Cecilia Velasco\", \"email\": \"cecilia.velasco@rodrigues.fr\"}\n",
      "The converted dictionary : {'contact_id': 4661, 'name': 'Cecilia Velasco', 'email': 'cecilia.velasco@rodrigues.fr'}\n",
      "The row values are : [4661, 'Cecilia Velasco', 'cecilia.velasco@rodrigues.fr']\n"
     ]
    }
   ],
   "source": [
    "## sklills drill # convert updated string data to a dictionary, \n",
    "##### and then print the value of each key\n",
    "#dict_data = {\"contact_id\": 4661, \"name\": \"Cecilia Velasco\", \"email\": \"cecilia.velasco@rodrigues.fr\"}\n",
    "\n",
    "# convert dictionary string to dictionary\n",
    " \n",
    "# initializing string\n",
    "dict_data = '{\"contact_id\": 4661, \"name\": \"Cecilia Velasco\", \"email\": \"cecilia.velasco@rodrigues.fr\"}'\n",
    " \n",
    "# printing original string\n",
    "print(\"The original string : \" + str(dict_data))\n",
    " \n",
    "# using json.loads()\n",
    "# convert dictionary string to dictionary\n",
    "res_dict_data = json.loads(dict_data)\n",
    " \n",
    "# print result\n",
    "print(\"The converted dictionary : \" + str(res_dict_data))\n",
    "\n",
    "row_values = [v for k, v in res_dict_data.items()]\n",
    "print(\"The row values are : \" + str(row_values))"
   ]
  },
  {
   "cell_type": "code",
   "execution_count": 3,
   "id": "d1426bb1",
   "metadata": {},
   "outputs": [
    {
     "name": "stdout",
     "output_type": "stream",
     "text": [
      "The original string : {\"Nikhil\" : 1, \"Akshat\" : 2, \"Akash\" : 3}\n",
      "The converted dictionary : {'Nikhil': 1, 'Akshat': 2, 'Akash': 3}\n"
     ]
    }
   ],
   "source": [
    "# found this online, tested it... (https://www.geeksforgeeks.org/python-convert-string-dictionary-to-dictionary/)\n",
    "# convert dictionary string to dictionary\n",
    "# using json.loads()\n",
    "import json\n",
    " \n",
    "# initializing string\n",
    "test_string = '{\"Nikhil\" : 1, \"Akshat\" : 2, \"Akash\" : 3}'\n",
    " \n",
    "# printing original string\n",
    "print(\"The original string : \" + str(test_string))\n",
    " \n",
    "# using json.loads()\n",
    "# convert dictionary string to dictionary\n",
    "res = json.loads(test_string)\n",
    " \n",
    "# print result\n",
    "print(\"The converted dictionary : \" + str(res))"
   ]
  },
  {
   "cell_type": "code",
   "execution_count": null,
   "id": "8244d5c0",
   "metadata": {},
   "outputs": [],
   "source": [
    "#data = {\"contact_id\": 4661, \"name\": \"Cecilia Velasco\", \"email\": \"cecilia.velasco@rodrigues.fr\"}"
   ]
  },
  {
   "cell_type": "code",
   "execution_count": 10,
   "id": "c08fb564",
   "metadata": {},
   "outputs": [
    {
     "name": "stdout",
     "output_type": "stream",
     "text": [
      "The converted dictionary using json : {'contact_id': 4661, 'name': 'Cecilia Velasco', 'email': 'cecilia.velasco@rodrigues.fr'}\n",
      "The row values are : [4661, 'Cecilia Velasco', 'cecilia.velasco@rodrigues.fr']\n"
     ]
    }
   ],
   "source": [
    "## Assign the data to a variable.\n",
    "data = '{\"contact_id\": 4661, \"name\": \"Cecilia Velasco\", \"email\": \"cecilia.velasco@rodrigues.fr\"}'\n",
    "# Convert the string data to a dictionary.\n",
    "converted_data = json.loads(data)\n",
    "# print result\n",
    "print(\"The converted dictionary using json : \" + str(converted_data))\n",
    "# Iterate through the dictionary (row) and get the values.\n",
    "row_values = [v for k, v in converted_data.items()]\n",
    "print(\"The row values are : \" + str(row_values))"
   ]
  },
  {
   "cell_type": "code",
   "execution_count": null,
   "id": "5ec8dc43",
   "metadata": {},
   "outputs": [],
   "source": []
  },
  {
   "cell_type": "code",
   "execution_count": 11,
   "id": "17ce2dfe",
   "metadata": {},
   "outputs": [
    {
     "name": "stdout",
     "output_type": "stream",
     "text": [
      "['4661']\n"
     ]
    }
   ],
   "source": [
    "# Import the regular expression module.\n",
    "import re\n",
    "# Assign the string data to a variable. \n",
    "string_data = \"contact_id 4661 name Cecilia Velasco email cecilia.velasco@rodrigues.fr\"\n",
    "# Extract the four digit number. The \"\\d\" calls a numerical digit. The \"{4}\" calls a numerical digit exactly four digets long.\n",
    "contact_id = re.findall(r'(\\d{4})', string_data) \n",
    "print(contact_id)"
   ]
  },
  {
   "cell_type": "markdown",
   "id": "638caa1c",
   "metadata": {},
   "source": []
  },
  {
   "cell_type": "code",
   "execution_count": 19,
   "id": "21057bb1",
   "metadata": {},
   "outputs": [
    {
     "data": {
      "text/plain": [
       "['Cecilia Velasco', 'il cecilia']"
      ]
     },
     "execution_count": 19,
     "metadata": {},
     "output_type": "execute_result"
    }
   ],
   "source": [
    "# Extract the first and last name after the word \"name\". \n",
    "name = re.findall(r'([^name\\s+][A-Za-z]+\\s+[A-Za-z]+)', string_data)\n",
    "name"
   ]
  },
  {
   "cell_type": "code",
   "execution_count": 20,
   "id": "0d04f02d",
   "metadata": {},
   "outputs": [
    {
     "data": {
      "text/plain": [
       "['Cecilia Velasco']"
      ]
     },
     "execution_count": 20,
     "metadata": {},
     "output_type": "execute_result"
    }
   ],
   "source": [
    "# Extract the first and last name after the word \"name\". \n",
    "name = re.findall(r'([^nameil\\s+][A-Za-z]+\\s+[A-Za-z]+)', string_data)\n",
    "name"
   ]
  },
  {
   "cell_type": "code",
   "execution_count": 21,
   "id": "656222a5",
   "metadata": {},
   "outputs": [
    {
     "data": {
      "text/plain": [
       "['cecilia.velasco@rodrigues.fr']"
      ]
     },
     "execution_count": 21,
     "metadata": {},
     "output_type": "execute_result"
    }
   ],
   "source": [
    "# Extract the email address using a regular expression pattern. \n",
    "email_address = re.findall(r'(\\S+@\\S+)', string_data)\n",
    "email_address"
   ]
  },
  {
   "cell_type": "code",
   "execution_count": null,
   "id": "701eea46",
   "metadata": {},
   "outputs": [],
   "source": []
  },
  {
   "cell_type": "code",
   "execution_count": null,
   "id": "50afb4d0",
   "metadata": {},
   "outputs": [],
   "source": []
  },
  {
   "cell_type": "code",
   "execution_count": null,
   "id": "e164fe68",
   "metadata": {},
   "outputs": [],
   "source": []
  }
 ],
 "metadata": {
  "kernelspec": {
   "display_name": "PythonData",
   "language": "python",
   "name": "pythondata"
  },
  "language_info": {
   "codemirror_mode": {
    "name": "ipython",
    "version": 3
   },
   "file_extension": ".py",
   "mimetype": "text/x-python",
   "name": "python",
   "nbconvert_exporter": "python",
   "pygments_lexer": "ipython3",
   "version": "3.9.13"
  }
 },
 "nbformat": 4,
 "nbformat_minor": 5
}
